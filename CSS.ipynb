{
 "cells": [
  {
   "cell_type": "code",
   "execution_count": 1,
   "id": "e3d86a2b",
   "metadata": {},
   "outputs": [
    {
     "data": {
      "text/plain": [
       "'/home/user'"
      ]
     },
     "execution_count": 1,
     "metadata": {},
     "output_type": "execute_result"
    }
   ],
   "source": [
    "pwd\n"
   ]
  },
  {
   "cell_type": "code",
   "execution_count": 2,
   "id": "a8d66014",
   "metadata": {},
   "outputs": [
    {
     "name": "stdout",
     "output_type": "stream",
     "text": [
      "/home/user/css2024_day1\n"
     ]
    }
   ],
   "source": [
    "cd css2024_day1\n"
   ]
  },
  {
   "cell_type": "code",
   "execution_count": 3,
   "id": "f2502791",
   "metadata": {},
   "outputs": [],
   "source": [
    "import pandas as pd"
   ]
  },
  {
   "cell_type": "code",
   "execution_count": 4,
   "id": "ac17d839",
   "metadata": {},
   "outputs": [
    {
     "data": {
      "text/plain": [
       "'/home/user/css2024_day1'"
      ]
     },
     "execution_count": 4,
     "metadata": {},
     "output_type": "execute_result"
    }
   ],
   "source": [
    "pwd"
   ]
  },
  {
   "cell_type": "code",
   "execution_count": 5,
   "id": "8a425b29",
   "metadata": {},
   "outputs": [],
   "source": [
    "file = pd.read_csv(\"movie_dataset.csv\")"
   ]
  },
  {
   "cell_type": "code",
   "execution_count": 6,
   "id": "1e248c09",
   "metadata": {},
   "outputs": [
    {
     "name": "stdout",
     "output_type": "stream",
     "text": [
      "     Rank                    Title                     Genre  \\\n",
      "0       1  Guardians of the Galaxy   Action,Adventure,Sci-Fi   \n",
      "1       2               Prometheus  Adventure,Mystery,Sci-Fi   \n",
      "2       3                    Split           Horror,Thriller   \n",
      "3       4                     Sing   Animation,Comedy,Family   \n",
      "4       5            Suicide Squad  Action,Adventure,Fantasy   \n",
      "..    ...                      ...                       ...   \n",
      "995   996     Secret in Their Eyes       Crime,Drama,Mystery   \n",
      "996   997          Hostel: Part II                    Horror   \n",
      "997   998   Step Up 2: The Streets       Drama,Music,Romance   \n",
      "998   999             Search Party          Adventure,Comedy   \n",
      "999  1000               Nine Lives     Comedy,Family,Fantasy   \n",
      "\n",
      "                                           Description              Director  \\\n",
      "0    A group of intergalactic criminals are forced ...            James Gunn   \n",
      "1    Following clues to the origin of mankind, a te...          Ridley Scott   \n",
      "2    Three girls are kidnapped by a man with a diag...    M. Night Shyamalan   \n",
      "3    In a city of humanoid animals, a hustling thea...  Christophe Lourdelet   \n",
      "4    A secret government agency recruits some of th...            David Ayer   \n",
      "..                                                 ...                   ...   \n",
      "995  A tight-knit team of rising investigators, alo...             Billy Ray   \n",
      "996  Three American college students studying abroa...              Eli Roth   \n",
      "997  Romantic sparks occur between two dance studen...            Jon M. Chu   \n",
      "998  A pair of friends embark on a mission to reuni...        Scot Armstrong   \n",
      "999  A stuffy businessman finds himself trapped ins...      Barry Sonnenfeld   \n",
      "\n",
      "                                                Actors  Year  \\\n",
      "0    Chris Pratt, Vin Diesel, Bradley Cooper, Zoe S...  2014   \n",
      "1    Noomi Rapace, Logan Marshall-Green, Michael Fa...  2012   \n",
      "2    James McAvoy, Anya Taylor-Joy, Haley Lu Richar...  2016   \n",
      "3    Matthew McConaughey,Reese Witherspoon, Seth Ma...  2016   \n",
      "4    Will Smith, Jared Leto, Margot Robbie, Viola D...  2016   \n",
      "..                                                 ...   ...   \n",
      "995  Chiwetel Ejiofor, Nicole Kidman, Julia Roberts...  2015   \n",
      "996  Lauren German, Heather Matarazzo, Bijou Philli...  2007   \n",
      "997  Robert Hoffman, Briana Evigan, Cassie Ventura,...  2008   \n",
      "998  Adam Pally, T.J. Miller, Thomas Middleditch,Sh...  2014   \n",
      "999  Kevin Spacey, Jennifer Garner, Robbie Amell,Ch...  2016   \n",
      "\n",
      "     Runtime (Minutes)  Rating   Votes  Revenue (Millions)  Metascore  \n",
      "0                  121     8.1  757074              333.13       76.0  \n",
      "1                  124     7.0  485820              126.46       65.0  \n",
      "2                  117     7.3  157606              138.12       62.0  \n",
      "3                  108     7.2   60545              270.32       59.0  \n",
      "4                  123     6.2  393727              325.02       40.0  \n",
      "..                 ...     ...     ...                 ...        ...  \n",
      "995                111     6.2   27585                 NaN       45.0  \n",
      "996                 94     5.5   73152               17.54       46.0  \n",
      "997                 98     6.2   70699               58.01       50.0  \n",
      "998                 93     5.6    4881                 NaN       22.0  \n",
      "999                 87     5.3   12435               19.64       11.0  \n",
      "\n",
      "[1000 rows x 12 columns]\n"
     ]
    }
   ],
   "source": [
    "print(file)"
   ]
  },
  {
   "cell_type": "code",
   "execution_count": 7,
   "id": "8f044f55",
   "metadata": {},
   "outputs": [
    {
     "name": "stdout",
     "output_type": "stream",
     "text": [
      "<class 'pandas.core.frame.DataFrame'>\n",
      "RangeIndex: 1000 entries, 0 to 999\n",
      "Data columns (total 12 columns):\n",
      " #   Column              Non-Null Count  Dtype  \n",
      "---  ------              --------------  -----  \n",
      " 0   Rank                1000 non-null   int64  \n",
      " 1   Title               1000 non-null   object \n",
      " 2   Genre               1000 non-null   object \n",
      " 3   Description         1000 non-null   object \n",
      " 4   Director            1000 non-null   object \n",
      " 5   Actors              1000 non-null   object \n",
      " 6   Year                1000 non-null   int64  \n",
      " 7   Runtime (Minutes)   1000 non-null   int64  \n",
      " 8   Rating              1000 non-null   float64\n",
      " 9   Votes               1000 non-null   int64  \n",
      " 10  Revenue (Millions)  872 non-null    float64\n",
      " 11  Metascore           936 non-null    float64\n",
      "dtypes: float64(3), int64(4), object(5)\n",
      "memory usage: 93.9+ KB\n",
      "None\n"
     ]
    }
   ],
   "source": [
    "print(file.info())"
   ]
  },
  {
   "cell_type": "code",
   "execution_count": 8,
   "id": "6d9fbef6",
   "metadata": {},
   "outputs": [
    {
     "name": "stdout",
     "output_type": "stream",
     "text": [
      "              Rank         Year  Runtime (Minutes)       Rating         Votes  \\\n",
      "count  1000.000000  1000.000000        1000.000000  1000.000000  1.000000e+03   \n",
      "mean    500.500000  2012.783000         113.172000     6.723200  1.698083e+05   \n",
      "std     288.819436     3.205962          18.810908     0.945429  1.887626e+05   \n",
      "min       1.000000  2006.000000          66.000000     1.900000  6.100000e+01   \n",
      "25%     250.750000  2010.000000         100.000000     6.200000  3.630900e+04   \n",
      "50%     500.500000  2014.000000         111.000000     6.800000  1.107990e+05   \n",
      "75%     750.250000  2016.000000         123.000000     7.400000  2.399098e+05   \n",
      "max    1000.000000  2016.000000         191.000000     9.000000  1.791916e+06   \n",
      "\n",
      "       Revenue (Millions)   Metascore  \n",
      "count          872.000000  936.000000  \n",
      "mean            82.956376   58.985043  \n",
      "std            103.253540   17.194757  \n",
      "min              0.000000   11.000000  \n",
      "25%             13.270000   47.000000  \n",
      "50%             47.985000   59.500000  \n",
      "75%            113.715000   72.000000  \n",
      "max            936.630000  100.000000  \n"
     ]
    }
   ],
   "source": [
    "print(file.describe())"
   ]
  },
  {
   "cell_type": "code",
   "execution_count": 9,
   "id": "b7e1fc2a",
   "metadata": {},
   "outputs": [
    {
     "name": "stdout",
     "output_type": "stream",
     "text": [
      "100.0\n"
     ]
    }
   ],
   "source": [
    "print(file['Metascore'].max())"
   ]
  },
  {
   "cell_type": "code",
   "execution_count": null,
   "id": "7b4b5830",
   "metadata": {},
   "outputs": [],
   "source": []
  },
  {
   "cell_type": "code",
   "execution_count": null,
   "id": "97ca63df",
   "metadata": {},
   "outputs": [],
   "source": []
  },
  {
   "cell_type": "code",
   "execution_count": null,
   "id": "7f08cc72",
   "metadata": {},
   "outputs": [],
   "source": []
  },
  {
   "cell_type": "code",
   "execution_count": null,
   "id": "f65d2e6a",
   "metadata": {},
   "outputs": [],
   "source": []
  },
  {
   "cell_type": "code",
   "execution_count": null,
   "id": "fd38ae60",
   "metadata": {},
   "outputs": [],
   "source": []
  },
  {
   "cell_type": "code",
   "execution_count": null,
   "id": "aaeb8b4a",
   "metadata": {},
   "outputs": [],
   "source": []
  },
  {
   "cell_type": "code",
   "execution_count": null,
   "id": "9e0c6092",
   "metadata": {},
   "outputs": [],
   "source": []
  },
  {
   "cell_type": "code",
   "execution_count": null,
   "id": "157f5cb8",
   "metadata": {},
   "outputs": [],
   "source": []
  },
  {
   "cell_type": "code",
   "execution_count": null,
   "id": "30356556",
   "metadata": {},
   "outputs": [],
   "source": []
  },
  {
   "cell_type": "code",
   "execution_count": null,
   "id": "f04577a4",
   "metadata": {},
   "outputs": [],
   "source": []
  },
  {
   "cell_type": "code",
   "execution_count": null,
   "id": "3b99b3aa",
   "metadata": {},
   "outputs": [],
   "source": []
  },
  {
   "cell_type": "code",
   "execution_count": null,
   "id": "1f2bd200",
   "metadata": {},
   "outputs": [],
   "source": []
  },
  {
   "cell_type": "code",
   "execution_count": null,
   "id": "b4c1c7f8",
   "metadata": {},
   "outputs": [],
   "source": []
  },
  {
   "cell_type": "code",
   "execution_count": null,
   "id": "ac6908f2",
   "metadata": {},
   "outputs": [],
   "source": []
  },
  {
   "cell_type": "code",
   "execution_count": null,
   "id": "a2410293",
   "metadata": {},
   "outputs": [],
   "source": []
  },
  {
   "cell_type": "code",
   "execution_count": null,
   "id": "c6239938",
   "metadata": {},
   "outputs": [],
   "source": []
  },
  {
   "cell_type": "code",
   "execution_count": null,
   "id": "84890fca",
   "metadata": {},
   "outputs": [],
   "source": []
  },
  {
   "cell_type": "code",
   "execution_count": null,
   "id": "14b5bb5e",
   "metadata": {},
   "outputs": [],
   "source": []
  },
  {
   "cell_type": "markdown",
   "id": "c7afd8c6",
   "metadata": {},
   "source": [
    "# Storing data"
   ]
  },
  {
   "cell_type": "code",
   "execution_count": 10,
   "id": "61cd639b",
   "metadata": {},
   "outputs": [],
   "source": [
    "file = pd.read_csv(\"country_data.csv\")"
   ]
  },
  {
   "cell_type": "code",
   "execution_count": 11,
   "id": "1d067d21",
   "metadata": {},
   "outputs": [
    {
     "name": "stdout",
     "output_type": "stream",
     "text": [
      "30\n",
      "40\n"
     ]
    }
   ],
   "source": [
    "# Storing Data\n",
    "B1 = 30\n",
    "B2 = 40\n",
    "B3 = 30\n",
    "B4 = 49\n",
    "\n",
    "print(B1)\n",
    "print(B2)"
   ]
  },
  {
   "cell_type": "code",
   "execution_count": 12,
   "id": "0ba546ee",
   "metadata": {},
   "outputs": [
    {
     "name": "stdout",
     "output_type": "stream",
     "text": [
      "[30, 40, 30, 49, 22, 35, 22, 46, 29, 25, 39]\n",
      "30\n",
      "40\n",
      "39\n"
     ]
    }
   ],
   "source": [
    "# Using Lists\n",
    "age = [30,40,30,49,22,35,22,46,29,25,39]\n",
    "print(age)\n",
    "\n",
    "# Lists indexes start at 0 which has the value of 30\n",
    "print(age[0])\n",
    "print(age[1])\n",
    "print(age[10])"
   ]
  },
  {
   "cell_type": "code",
   "execution_count": 13,
   "id": "e8304a4d",
   "metadata": {},
   "outputs": [
    {
     "name": "stdout",
     "output_type": "stream",
     "text": [
      "22\n",
      "49\n",
      "11\n",
      "367\n",
      "33.36363636363637\n"
     ]
    }
   ],
   "source": [
    "# Basic Stats\n",
    "age = [30,40,30,49,22,35,22,46,29,25,39]\n",
    "\n",
    "print(min(age))\n",
    "print(max(age))\n",
    "print(len(age))\n",
    "print(sum(age))\n",
    "average = sum(age)/len(age)\n",
    "print(average)"
   ]
  },
  {
   "cell_type": "code",
   "execution_count": 14,
   "id": "c113c4b3",
   "metadata": {},
   "outputs": [
    {
     "name": "stdout",
     "output_type": "stream",
     "text": [
      "M\n",
      "M\n",
      "F\n"
     ]
    }
   ],
   "source": [
    "C2 = \"M\"\n",
    "C3 = \"M\"\n",
    "C4 = \"F\"\n",
    "print(C2)\n",
    "print(C3)\n",
    "print(C4)"
   ]
  },
  {
   "cell_type": "code",
   "execution_count": 15,
   "id": "494d443a",
   "metadata": {},
   "outputs": [
    {
     "name": "stdout",
     "output_type": "stream",
     "text": [
      "M\n",
      "M\n",
      "F\n",
      "M\n"
     ]
    }
   ],
   "source": [
    "gender = [\"M\",\"M\",\"F\",\"M\",\"F\",\"F\",\"F\",\"M\",\"M\",\"F\",\"M\"]\n",
    "print(gender[0])\n",
    "print(gender[1])\n",
    "print(gender[2])\n",
    "print(gender[-1])"
   ]
  },
  {
   "cell_type": "code",
   "execution_count": 16,
   "id": "59266c8c",
   "metadata": {},
   "outputs": [
    {
     "name": "stdout",
     "output_type": "stream",
     "text": [
      "[42, -2021, 6.283, 'tau', 'node']\n"
     ]
    }
   ],
   "source": [
    "# Data Storage With Lists\n",
    "my_list = [42, -2021, 6.283,\"tau\", \"node\"]\n",
    "print(my_list)"
   ]
  },
  {
   "cell_type": "code",
   "execution_count": null,
   "id": "e6454649",
   "metadata": {},
   "outputs": [],
   "source": []
  },
  {
   "cell_type": "code",
   "execution_count": null,
   "id": "46089b28",
   "metadata": {},
   "outputs": [],
   "source": []
  },
  {
   "cell_type": "code",
   "execution_count": 17,
   "id": "6bedcd0c",
   "metadata": {},
   "outputs": [
    {
     "name": "stdout",
     "output_type": "stream",
     "text": [
      "    age gender       country\n",
      "0    30      M  South Africa\n",
      "1    40      M      Botswana\n",
      "2    30      F  South Africa\n",
      "3    49      M  South Africa\n",
      "4    22      F         Kenya\n",
      "5    35      F    Mozambique\n",
      "6    22      F       Lesotho\n",
      "7    46      M         Kenya\n",
      "8    29      M         Kenya\n",
      "9    25      F         Egypt\n",
      "10   39      M         Sudan\n"
     ]
    }
   ],
   "source": [
    "# Creating a DataFrame\n",
    "data = {\n",
    "    'age': [30, 40, 30, 49, 22, 35, 22, 46, 29, 25, 39],\n",
    "    'gender': [\"M\", \"M\", \"F\", \"M\", \"F\", \"F\", \"F\", \"M\", \"M\", \"F\", \"M\"],\n",
    "    'country': [\"South Africa\", \"Botswana\", \"South Africa\", \"South Africa\", \"Kenya\", \"Mozambique\", \"Lesotho\", \"Kenya\", \"Kenya\", \"Egypt\", \"Sudan\"]\n",
    "}\n",
    "\n",
    "#df = data frame\n",
    "df = pd.DataFrame(data)\n",
    "\n",
    "# Displaying the DataFrame\n",
    "print(df)\n"
   ]
  },
  {
   "cell_type": "code",
   "execution_count": 18,
   "id": "5b22e8b1",
   "metadata": {},
   "outputs": [
    {
     "name": "stdout",
     "output_type": "stream",
     "text": [
      "0     30\n",
      "1     40\n",
      "2     30\n",
      "3     49\n",
      "4     22\n",
      "5     35\n",
      "6     22\n",
      "7     46\n",
      "8     29\n",
      "9     25\n",
      "10    39\n",
      "Name: age, dtype: int64\n"
     ]
    }
   ],
   "source": [
    "print(df['age'])"
   ]
  },
  {
   "cell_type": "code",
   "execution_count": 19,
   "id": "ddd4fbfc",
   "metadata": {},
   "outputs": [
    {
     "name": "stdout",
     "output_type": "stream",
     "text": [
      "0     South Africa\n",
      "1         Botswana\n",
      "2     South Africa\n",
      "3     South Africa\n",
      "4            Kenya\n",
      "5       Mozambique\n",
      "6          Lesotho\n",
      "7            Kenya\n",
      "8            Kenya\n",
      "9            Egypt\n",
      "10           Sudan\n",
      "Name: country, dtype: object\n"
     ]
    }
   ],
   "source": [
    "print(df['country'])"
   ]
  },
  {
   "cell_type": "code",
   "execution_count": 20,
   "id": "d8d99f8d",
   "metadata": {},
   "outputs": [
    {
     "name": "stdout",
     "output_type": "stream",
     "text": [
      "22\n"
     ]
    }
   ],
   "source": [
    "print(df['age'].min())"
   ]
  },
  {
   "cell_type": "code",
   "execution_count": 21,
   "id": "e9f2f471",
   "metadata": {},
   "outputs": [
    {
     "name": "stdout",
     "output_type": "stream",
     "text": [
      "49\n"
     ]
    }
   ],
   "source": [
    "print(df['age'].max())"
   ]
  },
  {
   "cell_type": "markdown",
   "id": "aad5d04f",
   "metadata": {},
   "source": [
    "#  Day 2"
   ]
  },
  {
   "cell_type": "code",
   "execution_count": 23,
   "id": "20059545",
   "metadata": {},
   "outputs": [
    {
     "name": "stdout",
     "output_type": "stream",
     "text": [
      "/home/user/css2024_day1\n"
     ]
    }
   ],
   "source": [
    "cd ../"
   ]
  },
  {
   "cell_type": "code",
   "execution_count": 25,
   "id": "cef2310f",
   "metadata": {},
   "outputs": [],
   "source": [
    "dff = pd.read_csv(\"data_02/country_data_index.csv\")"
   ]
  },
  {
   "cell_type": "code",
   "execution_count": 26,
   "id": "15350efe",
   "metadata": {},
   "outputs": [],
   "source": [
    "df = pd.read_csv(\"https://archive.ics.uci.edu/ml/machine-learning-databases/iris/iris.data\")"
   ]
  },
  {
   "cell_type": "code",
   "execution_count": 27,
   "id": "36ac83b6",
   "metadata": {},
   "outputs": [],
   "source": [
    "column_names = ['sepal_length', 'sepal_width', 'petal_length', 'petal_width', 'class']\n",
    "\n",
    "df = pd.read_csv(\"https://archive.ics.uci.edu/ml/machine-learning-databases/iris/iris.data\",header=None, names= column_names)"
   ]
  },
  {
   "cell_type": "code",
   "execution_count": null,
   "id": "e76be741",
   "metadata": {},
   "outputs": [],
   "source": []
  },
  {
   "cell_type": "code",
   "execution_count": null,
   "id": "cce4425a",
   "metadata": {},
   "outputs": [],
   "source": []
  },
  {
   "cell_type": "code",
   "execution_count": null,
   "id": "3041be8f",
   "metadata": {},
   "outputs": [],
   "source": []
  },
  {
   "cell_type": "code",
   "execution_count": null,
   "id": "f083d1d2",
   "metadata": {},
   "outputs": [],
   "source": []
  },
  {
   "cell_type": "code",
   "execution_count": null,
   "id": "2ba32181",
   "metadata": {},
   "outputs": [],
   "source": []
  },
  {
   "cell_type": "code",
   "execution_count": null,
   "id": "7e149189",
   "metadata": {},
   "outputs": [],
   "source": []
  },
  {
   "cell_type": "code",
   "execution_count": null,
   "id": "d51e7502",
   "metadata": {},
   "outputs": [],
   "source": []
  },
  {
   "cell_type": "code",
   "execution_count": null,
   "id": "6fbc5bbf",
   "metadata": {},
   "outputs": [],
   "source": []
  },
  {
   "cell_type": "code",
   "execution_count": null,
   "id": "ca13f134",
   "metadata": {},
   "outputs": [],
   "source": []
  },
  {
   "cell_type": "code",
   "execution_count": null,
   "id": "12119f81",
   "metadata": {},
   "outputs": [],
   "source": []
  }
 ],
 "metadata": {
  "kernelspec": {
   "display_name": "Python 3 (ipykernel)",
   "language": "python",
   "name": "python3"
  },
  "language_info": {
   "codemirror_mode": {
    "name": "ipython",
    "version": 3
   },
   "file_extension": ".py",
   "mimetype": "text/x-python",
   "name": "python",
   "nbconvert_exporter": "python",
   "pygments_lexer": "ipython3",
   "version": "3.9.13"
  }
 },
 "nbformat": 4,
 "nbformat_minor": 5
}
